{
  "nbformat": 4,
  "nbformat_minor": 0,
  "metadata": {
    "colab": {
      "name": "Linear_Algebra_Sprint_Challenge (3).ipynb",
      "provenance": [],
      "collapsed_sections": [],
      "include_colab_link": true
    },
    "kernelspec": {
      "name": "python3",
      "display_name": "Python 3"
    }
  },
  "cells": [
    {
      "cell_type": "markdown",
      "metadata": {
        "id": "view-in-github",
        "colab_type": "text"
      },
      "source": [
        "<a href=\"https://colab.research.google.com/github/alifarah94/DS-Unit-1-Sprint-3-Linear-Algebra/blob/master/Linear_Algebra_Sprint_Challenge_(3).ipynb\" target=\"_parent\"><img src=\"https://colab.research.google.com/assets/colab-badge.svg\" alt=\"Open In Colab\"/></a>"
      ]
    },
    {
      "cell_type": "markdown",
      "metadata": {
        "id": "-wQxiT7yC4_v",
        "colab_type": "text"
      },
      "source": [
        "#Linear Algebra"
      ]
    },
    {
      "cell_type": "markdown",
      "metadata": {
        "id": "aiUlaNJkECCL",
        "colab_type": "text"
      },
      "source": [
        "## 1.1 Graph vector $\\vec{a}$ \n",
        "\n",
        "\\begin{align}\n",
        "\\vec{a} = \\begin{bmatrix} 3 \\\\ 2 \\end{bmatrix}\n",
        "\\end{align}"
      ]
    },
    {
      "cell_type": "code",
      "metadata": {
        "id": "QpCKt0n5IeiY",
        "colab_type": "code",
        "colab": {}
      },
      "source": [
        "import numpy as np\n",
        "import matplotlib.pyplot as plt \n",
        "import pandas as pd\n",
        "from sklearn.preprocessing import StandardScaler\n",
        "from sklearn.decomposition import PCA\n",
        "from sklearn.cluster import KMeans"
      ],
      "execution_count": 0,
      "outputs": []
    },
    {
      "cell_type": "code",
      "metadata": {
        "id": "4ntcHwByZzRT",
        "colab_type": "code",
        "outputId": "a3962f62-5a21-4d3e-b721-0172eb14c33a",
        "colab": {
          "base_uri": "https://localhost:8080/",
          "height": 269
        }
      },
      "source": [
        "a = np.array([[3],[2]])\n",
        "\n",
        "plt.arrow(0,0,a[0][0],a[1][0],head_width=0.05,head_length=0.05,color='b')\n",
        "plt.xlim(-1,5)\n",
        "plt.ylim(-1,3)\n",
        "plt.show()"
      ],
      "execution_count": 0,
      "outputs": [
        {
          "output_type": "display_data",
          "data": {
            "image/png": "[encoded data removed]",
            "text/plain": [
              "<Figure size 432x288 with 1 Axes>"
            ]
          },
          "metadata": {
            "tags": []
          }
        }
      ]
    },
    {
      "cell_type": "markdown",
      "metadata": {
        "id": "BDLB08NXEiUN",
        "colab_type": "text"
      },
      "source": [
        "## 1.2 Find $||\\vec{b}||$. What does the norm of a vector represent?\n",
        "\\begin{align}\n",
        "\\vec{b} = \\begin{bmatrix} 17 & -4 & -2 & 1\\end{bmatrix}\n",
        "\\end{align}\n"
      ]
    },
    {
      "cell_type": "code",
      "metadata": {
        "id": "Fp3mocAKIfGD",
        "colab_type": "code",
        "outputId": "04e12171-36f1-42a2-edc7-199c28167a08",
        "colab": {
          "base_uri": "https://localhost:8080/",
          "height": 34
        }
      },
      "source": [
        "b = [17, -4,-2,1]\n",
        "\n",
        "b_norm = np.linalg.norm(b)\n",
        "b_norm \n",
        "# the norm represents the size of the vector in space "
      ],
      "execution_count": 0,
      "outputs": [
        {
          "output_type": "execute_result",
          "data": {
            "text/plain": [
              "17.60681686165901"
            ]
          },
          "metadata": {
            "tags": []
          },
          "execution_count": 69
        }
      ]
    },
    {
      "cell_type": "markdown",
      "metadata": {
        "id": "vBbJ0ZyPD6RG",
        "colab_type": "text"
      },
      "source": [
        "## 1.3 Find $\\vec{c} \\cdot \\vec{d}$ - Are these vectors orthogonal? Why or why not?\n",
        "\n",
        "\\begin{align}\n",
        "\\vec{c} = \\begin{bmatrix}3 & 7 & -2 & 12\\end{bmatrix}\n",
        "\\qquad\n",
        "\\vec{d} = \\begin{bmatrix}9 & -7 & 4 & 6\\end{bmatrix}\n",
        "\\end{align}"
      ]
    },
    {
      "cell_type": "code",
      "metadata": {
        "id": "NYb8BalmIfgY",
        "colab_type": "code",
        "outputId": "a4f70dde-beb9-4717-b4dd-44f4b1e706bd",
        "colab": {
          "base_uri": "https://localhost:8080/",
          "height": 34
        }
      },
      "source": [
        "c = np.array([3,7,-2,12])\n",
        "d = np.array([9,-7,4,6])\n",
        "\n",
        "np.dot(c,d)\n",
        "\n",
        "# these vectors are not orthogonal because the dot product is not 0. "
      ],
      "execution_count": 0,
      "outputs": [
        {
          "output_type": "execute_result",
          "data": {
            "text/plain": [
              "42"
            ]
          },
          "metadata": {
            "tags": []
          },
          "execution_count": 70
        }
      ]
    },
    {
      "cell_type": "markdown",
      "metadata": {
        "id": "gS85sJHWG7iU",
        "colab_type": "text"
      },
      "source": [
        "## 1.4 Find $E^{-1}$ and $E^{T}$\n",
        "\n",
        "\\begin{align}\n",
        "E = \n",
        "\\begin{bmatrix}\n",
        "    7 & 4 & 2 \\\\\n",
        "    1 & 3 & -1 \\\\\n",
        "    2 & 6 & -4\n",
        "\\end{bmatrix}\n",
        "\\end{align}"
      ]
    },
    {
      "cell_type": "code",
      "metadata": {
        "id": "QiISq5egIgSS",
        "colab_type": "code",
        "colab": {}
      },
      "source": [
        "E = np.array([[7,4,2],[1,3,-1],[2,6,-4]])"
      ],
      "execution_count": 0,
      "outputs": []
    },
    {
      "cell_type": "code",
      "metadata": {
        "id": "QtfpUgGWefiq",
        "colab_type": "code",
        "outputId": "8ced05ee-5bdd-4f69-c244-3e8a6e1b0dcb",
        "colab": {
          "base_uri": "https://localhost:8080/",
          "height": 68
        }
      },
      "source": [
        "E_1 = np.linalg.inv(E)\n",
        "\n",
        "E_1"
      ],
      "execution_count": 0,
      "outputs": [
        {
          "output_type": "execute_result",
          "data": {
            "text/plain": [
              "array([[ 0.17647059, -0.82352941,  0.29411765],\n",
              "       [-0.05882353,  0.94117647, -0.26470588],\n",
              "       [ 0.        ,  1.        , -0.5       ]])"
            ]
          },
          "metadata": {
            "tags": []
          },
          "execution_count": 72
        }
      ]
    },
    {
      "cell_type": "code",
      "metadata": {
        "id": "Yy_KMLvffIV2",
        "colab_type": "code",
        "outputId": "7feb671c-4a0e-4004-a73b-40df4b5697ac",
        "colab": {
          "base_uri": "https://localhost:8080/",
          "height": 68
        }
      },
      "source": [
        "E_T = E.T\n",
        "E_T"
      ],
      "execution_count": 0,
      "outputs": [
        {
          "output_type": "execute_result",
          "data": {
            "text/plain": [
              "array([[ 7,  1,  2],\n",
              "       [ 4,  3,  6],\n",
              "       [ 2, -1, -4]])"
            ]
          },
          "metadata": {
            "tags": []
          },
          "execution_count": 73
        }
      ]
    },
    {
      "cell_type": "markdown",
      "metadata": {
        "id": "_DFQHO2HcPNz",
        "colab_type": "text"
      },
      "source": [
        "## 1.5 Find $|F|$ - What is one reason why the determinant of a matrix would be 0? \n",
        "\n",
        "\\begin{align}\n",
        "F = \n",
        "\\begin{bmatrix}\n",
        "    2 & -2 & 5 \\\\\n",
        "    4 & 1 & 10 \\\\\n",
        "    12 & 6 & 30\n",
        "\\end{bmatrix}\n",
        "\\end{align}"
      ]
    },
    {
      "cell_type": "code",
      "metadata": {
        "id": "zf_blIFMfSxu",
        "colab_type": "code",
        "outputId": "36e8951b-f23f-4e5f-9ef4-f0a10c9f4af5",
        "colab": {
          "base_uri": "https://localhost:8080/",
          "height": 34
        }
      },
      "source": [
        "F = np.array([[2,-2,5],[4,1,10],[12,6,30]])\n",
        "F_det = np.linalg.det(F)\n",
        "\n",
        "F_det\n",
        "\n",
        "# when the determinant of a matrix is 0 that means that its not invertiable"
      ],
      "execution_count": 0,
      "outputs": [
        {
          "output_type": "execute_result",
          "data": {
            "text/plain": [
              "0.0"
            ]
          },
          "metadata": {
            "tags": []
          },
          "execution_count": 74
        }
      ]
    },
    {
      "cell_type": "markdown",
      "metadata": {
        "id": "TPzrKzEvC5YU",
        "colab_type": "text"
      },
      "source": [
        "# Intermediate Linear Algebra"
      ]
    },
    {
      "cell_type": "markdown",
      "metadata": {
        "id": "ap-us2lBGQyi",
        "colab_type": "text"
      },
      "source": [
        "## 2.1 Suppose that the number of customers at a ski resort as well as the number of inches of fresh powder (snow)  was recorded for 7 days. \n",
        "\n",
        "### Customers: [820, 760, 1250, 990, 1080, 1450, 1600]\n",
        "\n",
        "### Inches of new snow: [0, 1, 7, 1, 0, 6, 4 ]\n",
        "\n",
        "## Find the mean, sample variance, and sample standard deviation for both the number of customers and inches of new snow for the week. Remember that on SCs you can use library functions, dataframes, .describe(), etc. \n",
        "\n"
      ]
    },
    {
      "cell_type": "code",
      "metadata": {
        "id": "xS-JuHl9JiiP",
        "colab_type": "code",
        "colab": {}
      },
      "source": [
        "customers = np.array([820, 760, 1250, 990, 1080, 1450, 1600])\n",
        "snow = np.array([0, 1, 7, 1, 0, 6, 4])"
      ],
      "execution_count": 0,
      "outputs": []
    },
    {
      "cell_type": "code",
      "metadata": {
        "id": "cNxeVa0cg40d",
        "colab_type": "code",
        "outputId": "db976851-bc70-440f-dbbc-862ac3713a64",
        "colab": {
          "base_uri": "https://localhost:8080/",
          "height": 68
        }
      },
      "source": [
        "##### Your Code Here #####\n",
        "\n",
        "print(\" The customers mean is\",customers.mean(),'\\n',\"The customers sample variance is\",customers.std(ddof=1),'\\n',\"And the customers standard deviation\",customers.var(ddof=1))\n"
      ],
      "execution_count": 0,
      "outputs": [
        {
          "output_type": "stream",
          "text": [
            " The customers mean is 1135.7142857142858 \n",
            " The customers sample variance is 314.26406851866597 \n",
            " And the customers standard deviation 98761.90476190478\n"
          ],
          "name": "stdout"
        }
      ]
    },
    {
      "cell_type": "code",
      "metadata": {
        "id": "TCTv78palJ6A",
        "colab_type": "code",
        "outputId": "5062114e-eacb-4208-a799-ec5b461a2c37",
        "colab": {
          "base_uri": "https://localhost:8080/",
          "height": 68
        }
      },
      "source": [
        "print(\" The snow mean is\",snow.mean(),'\\n',\"The snows sample variance is\",snow.var(ddof=1),'\\n',\"And the snows standard deviation\",snow.std(ddof=1))"
      ],
      "execution_count": 0,
      "outputs": [
        {
          "output_type": "stream",
          "text": [
            " The snow mean is 2.7142857142857144 \n",
            " The snows sample variance is 8.571428571428571 \n",
            " And the snows standard deviation 2.9277002188455996\n"
          ],
          "name": "stdout"
        }
      ]
    },
    {
      "cell_type": "markdown",
      "metadata": {
        "id": "3ePJtK4VLTLH",
        "colab_type": "text"
      },
      "source": [
        "## 2.2 Are the variances of the number of customers and inches of snow comparable? \n",
        "## Why or why not? "
      ]
    },
    {
      "cell_type": "code",
      "metadata": {
        "id": "LvTtgZ-5Ndw_",
        "colab_type": "code",
        "colab": {}
      },
      "source": [
        "# it is not comparable because they have not been standardised"
      ],
      "execution_count": 0,
      "outputs": []
    },
    {
      "cell_type": "markdown",
      "metadata": {
        "id": "ixhZVGxfGVFh",
        "colab_type": "text"
      },
      "source": [
        "## 2.3 Find the variance-covariance matrix for the number of customers and inches of snow at the ski resort. "
      ]
    },
    {
      "cell_type": "code",
      "metadata": {
        "id": "IbglmVaxJjO7",
        "colab_type": "code",
        "outputId": "d1c91f04-56d4-43c2-c4b1-e0d7dfe755f5",
        "colab": {
          "base_uri": "https://localhost:8080/",
          "height": 111
        }
      },
      "source": [
        "df = pd.DataFrame()\n",
        "df['customers'] = customers\n",
        "df['last_week'] = snow\n",
        "df.cov()"
      ],
      "execution_count": 0,
      "outputs": [
        {
          "output_type": "execute_result",
          "data": {
            "text/html": [
              "<div>\n",
              "<style scoped>\n",
              "    .dataframe tbody tr th:only-of-type {\n",
              "        vertical-align: middle;\n",
              "    }\n",
              "\n",
              "    .dataframe tbody tr th {\n",
              "        vertical-align: top;\n",
              "    }\n",
              "\n",
              "    .dataframe thead th {\n",
              "        text-align: right;\n",
              "    }\n",
              "</style>\n",
              "<table border=\"1\" class=\"dataframe\">\n",
              "  <thead>\n",
              "    <tr style=\"text-align: right;\">\n",
              "      <th></th>\n",
              "      <th>customers</th>\n",
              "      <th>last_week</th>\n",
              "    </tr>\n",
              "  </thead>\n",
              "  <tbody>\n",
              "    <tr>\n",
              "      <th>customers</th>\n",
              "      <td>98761.904762</td>\n",
              "      <td>670.238095</td>\n",
              "    </tr>\n",
              "    <tr>\n",
              "      <th>last_week</th>\n",
              "      <td>670.238095</td>\n",
              "      <td>8.571429</td>\n",
              "    </tr>\n",
              "  </tbody>\n",
              "</table>\n",
              "</div>"
            ],
            "text/plain": [
              "              customers   last_week\n",
              "customers  98761.904762  670.238095\n",
              "last_week    670.238095    8.571429"
            ]
          },
          "metadata": {
            "tags": []
          },
          "execution_count": 78
        }
      ]
    },
    {
      "cell_type": "markdown",
      "metadata": {
        "id": "6Ks3_TbNC5yJ",
        "colab_type": "text"
      },
      "source": [
        "# PCA"
      ]
    },
    {
      "cell_type": "markdown",
      "metadata": {
        "id": "f6qJAPaaOdzD",
        "colab_type": "text"
      },
      "source": [
        "## 3.1 Standardize the data so that it has a mean of 0 and a standard deviation of 1. \n",
        "\n",
        "We have included some code to get you started so that you don't get stuck on something that isn't standardizing the data or PCA.\n",
        "\n",
        "This might be helpful:\n",
        "\n",
        "<https://scikit-learn.org/stable/modules/generated/sklearn.preprocessing.StandardScaler.html>"
      ]
    },
    {
      "cell_type": "code",
      "metadata": {
        "id": "bogsxfNyJlAw",
        "colab_type": "code",
        "outputId": "757b55b4-3ee8-4c59-cc25-1f7b8ae38872",
        "colab": {
          "base_uri": "https://localhost:8080/",
          "height": 173
        }
      },
      "source": [
        "# Let me get you some data to start you off.\n",
        "import pandas as pd\n",
        "\n",
        "data = {\"Country\": [\"England\",\"Wales\",\"Scotland\",\"North Ireland\"], \n",
        "        \"Cheese\": [105,103,103,66], \n",
        "        \"Carcass_Meat\": [245,227,242,267], \n",
        "        \"Other_Meat\": [685, 803, 750, 586], \n",
        "        \"Fish\": [147, 160, 122, 93], \n",
        "        \"Fats_and_Oils\": [193, 235, 184, 209], \n",
        "        \"Sugars\": [156, 175, 147, 139], \n",
        "        \"Fresh_Potatoes\": [720, 874, 566, 1033], \n",
        "        \"Fresh_Veg\": [253, 265, 171, 143], \n",
        "        \"Other_Veg\": [488, 570, 418, 355], \n",
        "        \"Processed_Potatoes\": [198, 203, 220, 187], \n",
        "        \"Processed_Veg\": [360, 365, 337, 334], \n",
        "        \"Fresh_Fruit\": [1102, 1137, 957, 674], \n",
        "        \"Cereals\": [1472, 1582, 1462, 1494], \n",
        "        \"Beverages\": [57,73,53,47], \n",
        "        \"Soft_Drinks\": [1374, 1256, 1572, 1506], \n",
        "        \"Alcoholic Drinks\": [375, 475, 458, 135], \n",
        "        \"Confectionery\": [54, 64, 62, 41]}\n",
        "\n",
        "df = pd.DataFrame(data)\n",
        "\n",
        "# Look at the data\n",
        "df.head()"
      ],
      "execution_count": 0,
      "outputs": [
        {
          "output_type": "execute_result",
          "data": {
            "text/html": [
              "<div>\n",
              "<style scoped>\n",
              "    .dataframe tbody tr th:only-of-type {\n",
              "        vertical-align: middle;\n",
              "    }\n",
              "\n",
              "    .dataframe tbody tr th {\n",
              "        vertical-align: top;\n",
              "    }\n",
              "\n",
              "    .dataframe thead th {\n",
              "        text-align: right;\n",
              "    }\n",
              "</style>\n",
              "<table border=\"1\" class=\"dataframe\">\n",
              "  <thead>\n",
              "    <tr style=\"text-align: right;\">\n",
              "      <th></th>\n",
              "      <th>Country</th>\n",
              "      <th>Cheese</th>\n",
              "      <th>Carcass_Meat</th>\n",
              "      <th>Other_Meat</th>\n",
              "      <th>Fish</th>\n",
              "      <th>Fats_and_Oils</th>\n",
              "      <th>Sugars</th>\n",
              "      <th>Fresh_Potatoes</th>\n",
              "      <th>Fresh_Veg</th>\n",
              "      <th>Other_Veg</th>\n",
              "      <th>Processed_Potatoes</th>\n",
              "      <th>Processed_Veg</th>\n",
              "      <th>Fresh_Fruit</th>\n",
              "      <th>Cereals</th>\n",
              "      <th>Beverages</th>\n",
              "      <th>Soft_Drinks</th>\n",
              "      <th>Alcoholic Drinks</th>\n",
              "      <th>Confectionery</th>\n",
              "    </tr>\n",
              "  </thead>\n",
              "  <tbody>\n",
              "    <tr>\n",
              "      <th>0</th>\n",
              "      <td>England</td>\n",
              "      <td>105</td>\n",
              "      <td>245</td>\n",
              "      <td>685</td>\n",
              "      <td>147</td>\n",
              "      <td>193</td>\n",
              "      <td>156</td>\n",
              "      <td>720</td>\n",
              "      <td>253</td>\n",
              "      <td>488</td>\n",
              "      <td>198</td>\n",
              "      <td>360</td>\n",
              "      <td>1102</td>\n",
              "      <td>1472</td>\n",
              "      <td>57</td>\n",
              "      <td>1374</td>\n",
              "      <td>375</td>\n",
              "      <td>54</td>\n",
              "    </tr>\n",
              "    <tr>\n",
              "      <th>1</th>\n",
              "      <td>Wales</td>\n",
              "      <td>103</td>\n",
              "      <td>227</td>\n",
              "      <td>803</td>\n",
              "      <td>160</td>\n",
              "      <td>235</td>\n",
              "      <td>175</td>\n",
              "      <td>874</td>\n",
              "      <td>265</td>\n",
              "      <td>570</td>\n",
              "      <td>203</td>\n",
              "      <td>365</td>\n",
              "      <td>1137</td>\n",
              "      <td>1582</td>\n",
              "      <td>73</td>\n",
              "      <td>1256</td>\n",
              "      <td>475</td>\n",
              "      <td>64</td>\n",
              "    </tr>\n",
              "    <tr>\n",
              "      <th>2</th>\n",
              "      <td>Scotland</td>\n",
              "      <td>103</td>\n",
              "      <td>242</td>\n",
              "      <td>750</td>\n",
              "      <td>122</td>\n",
              "      <td>184</td>\n",
              "      <td>147</td>\n",
              "      <td>566</td>\n",
              "      <td>171</td>\n",
              "      <td>418</td>\n",
              "      <td>220</td>\n",
              "      <td>337</td>\n",
              "      <td>957</td>\n",
              "      <td>1462</td>\n",
              "      <td>53</td>\n",
              "      <td>1572</td>\n",
              "      <td>458</td>\n",
              "      <td>62</td>\n",
              "    </tr>\n",
              "    <tr>\n",
              "      <th>3</th>\n",
              "      <td>North Ireland</td>\n",
              "      <td>66</td>\n",
              "      <td>267</td>\n",
              "      <td>586</td>\n",
              "      <td>93</td>\n",
              "      <td>209</td>\n",
              "      <td>139</td>\n",
              "      <td>1033</td>\n",
              "      <td>143</td>\n",
              "      <td>355</td>\n",
              "      <td>187</td>\n",
              "      <td>334</td>\n",
              "      <td>674</td>\n",
              "      <td>1494</td>\n",
              "      <td>47</td>\n",
              "      <td>1506</td>\n",
              "      <td>135</td>\n",
              "      <td>41</td>\n",
              "    </tr>\n",
              "  </tbody>\n",
              "</table>\n",
              "</div>"
            ],
            "text/plain": [
              "         Country  Cheese  ...  Alcoholic Drinks  Confectionery\n",
              "0        England     105  ...               375             54\n",
              "1          Wales     103  ...               475             64\n",
              "2       Scotland     103  ...               458             62\n",
              "3  North Ireland      66  ...               135             41\n",
              "\n",
              "[4 rows x 18 columns]"
            ]
          },
          "metadata": {
            "tags": []
          },
          "execution_count": 79
        }
      ]
    },
    {
      "cell_type": "code",
      "metadata": {
        "id": "1vHtXiklo_AQ",
        "colab_type": "code",
        "colab": {}
      },
      "source": [
        "df = df.drop(['Country'],axis=1) # removed the countries column to make the dataframe completly numeric "
      ],
      "execution_count": 0,
      "outputs": []
    },
    {
      "cell_type": "code",
      "metadata": {
        "id": "qFaQ2xDlpfe_",
        "colab_type": "code",
        "outputId": "c5d2e354-a68c-4b81-ae03-b83192857fe0",
        "colab": {
          "base_uri": "https://localhost:8080/",
          "height": 323
        }
      },
      "source": [
        "df.dtypes"
      ],
      "execution_count": 0,
      "outputs": [
        {
          "output_type": "execute_result",
          "data": {
            "text/plain": [
              "Cheese                int64\n",
              "Carcass_Meat          int64\n",
              "Other_Meat            int64\n",
              "Fish                  int64\n",
              "Fats_and_Oils         int64\n",
              "Sugars                int64\n",
              "Fresh_Potatoes        int64\n",
              "Fresh_Veg             int64\n",
              "Other_Veg             int64\n",
              "Processed_Potatoes    int64\n",
              "Processed_Veg         int64\n",
              "Fresh_Fruit           int64\n",
              "Cereals               int64\n",
              "Beverages             int64\n",
              "Soft_Drinks           int64\n",
              "Alcoholic Drinks      int64\n",
              "Confectionery         int64\n",
              "dtype: object"
            ]
          },
          "metadata": {
            "tags": []
          },
          "execution_count": 82
        }
      ]
    },
    {
      "cell_type": "code",
      "metadata": {
        "id": "2HY91nOpaTTZ",
        "colab_type": "code",
        "outputId": "4347a83e-7681-4f7c-e38d-54fd3624bdae",
        "colab": {
          "base_uri": "https://localhost:8080/",
          "height": 289
        }
      },
      "source": [
        "##### Your Code Here #####\n",
        "\n",
        "df_new = df.copy() # copy of data\n",
        "\n",
        "df_array = df_new.values # all dataset values is assigned to variable\n",
        "\n",
        "Scalar = StandardScaler() # Scaler function\n",
        "\n",
        "df_stand = Scalar.fit_transform(df_array) # standerdize the array\n",
        "\n",
        "df_stand"
      ],
      "execution_count": 0,
      "outputs": [
        {
          "output_type": "execute_result",
          "data": {
            "text/plain": [
              "array([[ 0.65827466, -0.01749546, -0.25954622,  0.64458535, -0.63242919,\n",
              "         0.13055067, -0.45007561,  0.86331183,  0.37773603, -0.33626508,\n",
              "         0.80547723,  0.73740709, -0.64432226, -0.05191741, -0.43523112,\n",
              "         0.10499766, -0.13830319],\n",
              "       [ 0.53580495, -1.27716878,  1.19885635,  1.15244047,  1.53589947,\n",
              "         1.54795798,  0.43569619,  1.09352832,  1.40168163,  0.08406627,\n",
              "         1.17160324,  0.9292974 ,  1.67946294,  1.60943981, -1.40423624,\n",
              "         0.84182336,  0.96812236],\n",
              "       [ 0.53580495, -0.22744102,  0.54381113, -0.33205912, -1.09707105,\n",
              "        -0.54085279, -1.33584741, -0.70983418, -0.49636387,  1.51319287,\n",
              "        -0.87870243, -0.0575671 , -0.85557546, -0.46725672,  1.19072664,\n",
              "         0.71656299,  0.74683725],\n",
              "       [-1.72988456,  1.52210526, -1.48312126, -1.4649667 ,  0.19360077,\n",
              "        -1.13765587,  1.35022682, -1.24700598, -1.28305378, -1.26099406,\n",
              "        -1.09837804, -1.60913739, -0.17956522, -1.09026568,  0.64874072,\n",
              "        -1.66338402, -1.57665641]])"
            ]
          },
          "metadata": {
            "tags": []
          },
          "execution_count": 88
        }
      ]
    },
    {
      "cell_type": "code",
      "metadata": {
        "id": "UyufCiqSp9gd",
        "colab_type": "code",
        "outputId": "ec50e39f-dd19-498b-8f56-9f472b20b8ae",
        "colab": {
          "base_uri": "https://localhost:8080/",
          "height": 34
        }
      },
      "source": [
        "print(\"the mean of the dataframe now is\",df_stand.mean(), \"and the standard deviation is \",df_stand.std())"
      ],
      "execution_count": 0,
      "outputs": [
        {
          "output_type": "stream",
          "text": [
            "the mean of the dataframe now is 3.2653618371328133e-18 and the standard deviation is  1.0\n"
          ],
          "name": "stdout"
        }
      ]
    },
    {
      "cell_type": "markdown",
      "metadata": {
        "id": "5U50KZkdJb_s",
        "colab_type": "text"
      },
      "source": [
        "## 3.2 Perform PCA on the data and graph Principal Component 1 against Principal Component 2. \n",
        "\n",
        "This might be helpful:\n",
        "\n",
        "<https://scikit-learn.org/stable/modules/generated/sklearn.decomposition.PCA.html>"
      ]
    },
    {
      "cell_type": "code",
      "metadata": {
        "id": "RqjwVokgP1fL",
        "colab_type": "code",
        "outputId": "c1d77519-be90-4318-e781-4396c6e1d37d",
        "colab": {
          "base_uri": "https://localhost:8080/",
          "height": 283
        }
      },
      "source": [
        "##### Your Code Here #####\n",
        "\n",
        "pca = PCA(2)\n",
        "\n",
        "pca_feature = pca.fit_transform(df_stand) \n",
        "\n",
        "pca_feature\n",
        "\n",
        "plt.scatter(pca_feature[0:],pca_feature[:])\n",
        "plt.xlabel('pca 1')\n",
        "plt.ylabel('pca 2')\n",
        "plt.show()"
      ],
      "execution_count": 0,
      "outputs": [
        {
          "output_type": "display_data",
          "data": {
            "image/png": "[encoded data removed]",
            "text/plain": [
              "<Figure size 432x288 with 1 Axes>"
            ]
          },
          "metadata": {
            "tags": []
          }
        }
      ]
    },
    {
      "cell_type": "markdown",
      "metadata": {
        "id": "m_sdj4vvG_tg",
        "colab_type": "text"
      },
      "source": [
        "## 3.3 What are Eigenvalues and Eigenvectors? -In general, not just in PCA."
      ]
    },
    {
      "cell_type": "markdown",
      "metadata": {
        "id": "QlhJnyR2HUTR",
        "colab_type": "text"
      },
      "source": [
        "Eigenvectors are vectors that dont change in direction only in magnitude and eigenvalues is its scalar  "
      ]
    },
    {
      "cell_type": "markdown",
      "metadata": {
        "id": "z-RzYKR0C6Wg",
        "colab_type": "text"
      },
      "source": [
        "# Clustering"
      ]
    },
    {
      "cell_type": "markdown",
      "metadata": {
        "id": "62efk4plJe54",
        "colab_type": "text"
      },
      "source": [
        "## 4.1 Use K-Means to cluster the following data and then graph your results. \n",
        "\n",
        "We have included some code to get you started so that you don't get stuck on something that isn't standardizing clustering.\n",
        "\n",
        "Prioritize calculating the clusters over graphing them. \n",
        "\n",
        "Scikit-Learn K-Means Documentation:\n",
        "\n",
        "<https://scikit-learn.org/stable/modules/generated/sklearn.cluster.KMeans.html>"
      ]
    },
    {
      "cell_type": "code",
      "metadata": {
        "id": "miK5Aeg-JlzJ",
        "colab_type": "code",
        "outputId": "6f18f781-b77f-4caf-da35-6bb941441ae5",
        "colab": {
          "base_uri": "https://localhost:8080/",
          "height": 204
        }
      },
      "source": [
        "points = pd.read_csv('https://raw.githubusercontent.com/ryanleeallred/datasets/master/points.csv')\n",
        "points.head()"
      ],
      "execution_count": 0,
      "outputs": [
        {
          "output_type": "execute_result",
          "data": {
            "text/html": [
              "<div>\n",
              "<style scoped>\n",
              "    .dataframe tbody tr th:only-of-type {\n",
              "        vertical-align: middle;\n",
              "    }\n",
              "\n",
              "    .dataframe tbody tr th {\n",
              "        vertical-align: top;\n",
              "    }\n",
              "\n",
              "    .dataframe thead th {\n",
              "        text-align: right;\n",
              "    }\n",
              "</style>\n",
              "<table border=\"1\" class=\"dataframe\">\n",
              "  <thead>\n",
              "    <tr style=\"text-align: right;\">\n",
              "      <th></th>\n",
              "      <th>x</th>\n",
              "      <th>y</th>\n",
              "    </tr>\n",
              "  </thead>\n",
              "  <tbody>\n",
              "    <tr>\n",
              "      <th>0</th>\n",
              "      <td>-7.846803</td>\n",
              "      <td>-3.421277</td>\n",
              "    </tr>\n",
              "    <tr>\n",
              "      <th>1</th>\n",
              "      <td>-3.554323</td>\n",
              "      <td>-6.884729</td>\n",
              "    </tr>\n",
              "    <tr>\n",
              "      <th>2</th>\n",
              "      <td>-0.192822</td>\n",
              "      <td>-9.671030</td>\n",
              "    </tr>\n",
              "    <tr>\n",
              "      <th>3</th>\n",
              "      <td>-6.401456</td>\n",
              "      <td>-5.223972</td>\n",
              "    </tr>\n",
              "    <tr>\n",
              "      <th>4</th>\n",
              "      <td>-0.804026</td>\n",
              "      <td>-9.704457</td>\n",
              "    </tr>\n",
              "  </tbody>\n",
              "</table>\n",
              "</div>"
            ],
            "text/plain": [
              "          x         y\n",
              "0 -7.846803 -3.421277\n",
              "1 -3.554323 -6.884729\n",
              "2 -0.192822 -9.671030\n",
              "3 -6.401456 -5.223972\n",
              "4 -0.804026 -9.704457"
            ]
          },
          "metadata": {
            "tags": []
          },
          "execution_count": 116
        }
      ]
    },
    {
      "cell_type": "code",
      "metadata": {
        "id": "qX0zKKznTzcI",
        "colab_type": "code",
        "outputId": "3afa485d-e5bd-4ea2-d16e-b794fd2debd4",
        "colab": {
          "base_uri": "https://localhost:8080/",
          "height": 1000
        }
      },
      "source": [
        "##### Your Code Here #####\n",
        "#first standarise dataframe\n",
        "\n",
        "points_new = points.copy() # copy of data\n",
        "\n",
        "points_array = points_new.values # all dataset values is assigned to variable\n",
        "\n",
        "Scalar = StandardScaler() # Scaler function\n",
        "\n",
        "points_stand = Scalar.fit_transform(points_array) # standerdise the array\n",
        "\n",
        "points_stand"
      ],
      "execution_count": 0,
      "outputs": [
        {
          "output_type": "execute_result",
          "data": {
            "text/plain": [
              "array([[-1.21526379e+00,  2.86037188e-04],\n",
              "       [-2.70846217e-01, -6.21863006e-01],\n",
              "       [ 4.68740475e-01, -1.12237346e+00],\n",
              "       [-8.97263139e-01, -3.23536806e-01],\n",
              "       [ 3.34265444e-01, -1.12837792e+00],\n",
              "       [-5.83901585e-01, -4.87876229e-01],\n",
              "       [-1.27514964e+00, -3.61493204e-02],\n",
              "       [-1.28101065e+00,  1.14052055e-01],\n",
              "       [-2.74000332e-01,  1.58519487e+00],\n",
              "       [-7.45507361e-01, -6.07004467e-01],\n",
              "       [-3.70236546e-01, -8.21276183e-01],\n",
              "       [-4.45252599e-01, -6.55731775e-01],\n",
              "       [ 5.16199687e-01, -1.28425299e+00],\n",
              "       [-5.12658923e-01, -8.40267708e-01],\n",
              "       [-1.30684890e+00, -1.69198224e-01],\n",
              "       [ 1.17498591e-01, -1.37830766e+00],\n",
              "       [-1.15366593e+00, -1.74027100e-01],\n",
              "       [-1.49353728e-01, -4.15974917e-01],\n",
              "       [-5.57611813e-02, -7.92066494e-01],\n",
              "       [ 1.99420407e+00,  1.35805442e+00],\n",
              "       [-1.24151228e+00,  4.90205302e-02],\n",
              "       [ 1.88969493e+00,  1.51541391e+00],\n",
              "       [ 1.89400952e+00,  1.41370075e+00],\n",
              "       [ 1.92043381e+00,  1.40233100e+00],\n",
              "       [-7.97113881e-02, -9.14291591e-01],\n",
              "       [-6.51190075e-01, -1.06321676e+00],\n",
              "       [ 5.26779895e-01, -1.20189377e+00],\n",
              "       [ 1.50223553e-01,  1.33386379e+00],\n",
              "       [-5.02389343e-01, -8.88047680e-01],\n",
              "       [-5.19363132e-01, -6.90550486e-01],\n",
              "       [-1.85472438e-01, -7.58654610e-01],\n",
              "       [-5.39491898e-02, -6.66791422e-01],\n",
              "       [ 4.91282014e-01, -7.57944304e-01],\n",
              "       [ 2.01641994e+00,  1.08647010e+00],\n",
              "       [-8.99698535e-01, -9.96724593e-01],\n",
              "       [-5.02723446e-01, -6.41888181e-01],\n",
              "       [-8.58512836e-02, -8.68974429e-01],\n",
              "       [-1.85125441e-01, -5.47724032e-01],\n",
              "       [-2.93222940e-01,  1.40914219e+00],\n",
              "       [ 1.69627050e-01, -1.06195336e+00],\n",
              "       [ 8.12013720e-01, -1.32060729e+00],\n",
              "       [ 1.92358526e+00,  1.47667287e+00],\n",
              "       [-1.07464653e-01,  1.35244750e+00],\n",
              "       [-3.01202986e-01,  1.45692920e+00],\n",
              "       [-4.14267733e-01,  1.24081892e+00],\n",
              "       [-1.60203827e-01, -3.09078926e-01],\n",
              "       [ 1.05933203e-01, -7.46279964e-01],\n",
              "       [-1.37317152e-01, -6.13804406e-01],\n",
              "       [-1.30600408e+00,  1.24277877e-01],\n",
              "       [ 5.22222381e-01, -9.95571051e-01],\n",
              "       [ 1.41560436e+00,  1.39684284e+00],\n",
              "       [-9.08165989e-01,  1.40919355e-01],\n",
              "       [-1.29269314e+00,  6.59345984e-02],\n",
              "       [-3.91576095e-01,  1.34397491e+00],\n",
              "       [ 2.19028929e+00,  1.67164726e+00],\n",
              "       [ 8.17117858e-01, -9.60371356e-01],\n",
              "       [-3.73433619e-01, -5.53644821e-01],\n",
              "       [-6.13143077e-01,  1.22769978e+00],\n",
              "       [-3.62059430e-01,  1.41904371e+00],\n",
              "       [-1.36961745e+00,  3.28102581e-02],\n",
              "       [ 1.56501809e+00,  1.22524406e+00],\n",
              "       [ 4.44710819e-01, -8.74883040e-01],\n",
              "       [-1.41367427e+00,  3.56689011e-02],\n",
              "       [-2.69249601e-01,  1.50513585e+00],\n",
              "       [ 1.53285868e+00,  1.17642483e+00],\n",
              "       [-1.44049335e-02,  1.48011630e+00],\n",
              "       [ 1.83953097e+00,  1.39570051e+00],\n",
              "       [-2.81783423e-01,  1.21642812e+00],\n",
              "       [-9.41502748e-01, -3.00424359e-01],\n",
              "       [-6.45480173e-01,  1.35003663e+00],\n",
              "       [ 1.26434852e-01, -6.69456132e-01],\n",
              "       [-3.53742000e-01, -6.30128776e-01],\n",
              "       [-4.62037886e-01, -9.42363422e-01],\n",
              "       [-5.35129188e-01, -8.92484801e-01],\n",
              "       [ 2.04147036e+00,  1.17060229e+00],\n",
              "       [ 2.06229940e+00,  1.17484139e+00],\n",
              "       [-5.45602154e-01, -7.39490287e-01],\n",
              "       [-4.10699404e-01, -7.60961005e-01],\n",
              "       [ 5.05980434e-02,  1.33194193e+00],\n",
              "       [ 1.83270163e+00,  1.19492447e+00],\n",
              "       [-3.77304294e-01,  1.44113304e+00],\n",
              "       [-4.60656396e-01, -5.07053432e-01],\n",
              "       [-4.11666236e-01, -9.97480808e-01],\n",
              "       [-3.17832742e-01, -2.98224391e-01],\n",
              "       [-2.39949816e-01,  1.03995841e+00],\n",
              "       [-1.85843261e-01, -6.61716219e-01],\n",
              "       [-3.11310717e-01,  1.27339187e+00],\n",
              "       [-1.55435266e-01, -1.00837720e+00],\n",
              "       [-6.51080355e-01, -9.44306140e-01],\n",
              "       [ 1.56891771e+00,  1.35767469e+00],\n",
              "       [-8.20544185e-02,  1.29556194e+00],\n",
              "       [-2.90223233e-01, -7.18548796e-01],\n",
              "       [ 1.33154568e+00,  1.08062101e+00],\n",
              "       [-4.45601621e-02, -6.22156564e-01],\n",
              "       [ 4.36909306e-01, -1.34040838e+00],\n",
              "       [-4.36124547e-01, -9.17240464e-01],\n",
              "       [-4.96225424e-04, -7.04180416e-01],\n",
              "       [-3.13104658e-01, -1.21721920e+00],\n",
              "       [-5.33407347e-02, -5.65289396e-01],\n",
              "       [ 5.51167539e-01, -1.19662343e+00],\n",
              "       [-1.04379853e-01, -9.22702954e-01],\n",
              "       [ 9.63427806e-02, -5.61927965e-01],\n",
              "       [-1.51875755e+00, -3.53616177e-01],\n",
              "       [-6.69611405e-01, -7.81349863e-01],\n",
              "       [-3.13654130e-01, -5.09937911e-01],\n",
              "       [ 2.05548328e+00,  1.10473305e+00],\n",
              "       [-1.52954374e+00,  9.35150954e-02],\n",
              "       [-1.42860206e+00, -1.99317684e-01],\n",
              "       [-1.35376211e+00,  3.20492486e-02],\n",
              "       [ 1.80142871e+00,  1.45042898e+00],\n",
              "       [ 2.35715402e-01, -1.18527558e+00],\n",
              "       [ 1.84518203e+00,  1.19933229e+00],\n",
              "       [-4.34725374e-01, -8.47876336e-01],\n",
              "       [-1.71506946e+00,  1.24561073e-02],\n",
              "       [ 1.22317377e-01, -8.34760820e-01],\n",
              "       [-5.61835775e-01, -5.55752008e-01],\n",
              "       [-4.70594981e-01,  1.09666326e+00],\n",
              "       [-3.86331653e-01,  1.02884511e+00],\n",
              "       [ 2.09295745e+00,  1.41075868e+00],\n",
              "       [-6.35520011e-01,  1.46850314e+00],\n",
              "       [ 1.99539142e+00,  1.24571567e+00],\n",
              "       [ 7.51065792e-01, -1.24870257e+00],\n",
              "       [-4.87984723e-01, -1.18694201e+00],\n",
              "       [-1.20561166e+00, -1.26853405e-01],\n",
              "       [-7.02984086e-01, -1.00145068e+00],\n",
              "       [-1.15857236e+00,  2.88902092e-02],\n",
              "       [-8.27925662e-03, -7.25926702e-01],\n",
              "       [ 1.96991133e+00,  1.34200836e+00],\n",
              "       [-1.99755456e-01,  1.22607752e+00],\n",
              "       [-1.27993879e+00,  5.38973865e-02],\n",
              "       [ 1.11954855e-01, -1.22259636e+00],\n",
              "       [-1.44873271e+00, -7.22201881e-02],\n",
              "       [-7.63447288e-01, -1.03326708e+00],\n",
              "       [-1.55894661e+00,  1.09677412e-01],\n",
              "       [-4.75535650e-01,  1.34279366e+00],\n",
              "       [ 1.06950496e-01,  1.41965373e+00],\n",
              "       [ 3.52055549e-01, -1.21920948e+00],\n",
              "       [ 2.20568303e+00,  1.19649485e+00],\n",
              "       [-1.42067437e+00, -4.32793426e-02],\n",
              "       [-4.30418404e-01, -6.69268284e-01],\n",
              "       [ 9.10588920e-02,  1.46923361e+00],\n",
              "       [-2.43186823e-01, -7.75591253e-01],\n",
              "       [-2.47878749e-01, -9.84139042e-01],\n",
              "       [ 2.09380474e+00,  1.22443363e+00],\n",
              "       [ 5.85323307e-01, -1.02145268e+00],\n",
              "       [-4.34850198e-01,  1.31822665e+00],\n",
              "       [-1.16913784e-01, -6.34417262e-01],\n",
              "       [-4.40825885e-01,  1.52198479e+00],\n",
              "       [-1.44946301e+00,  5.91192830e-02],\n",
              "       [-3.05197355e-01, -7.41167199e-01],\n",
              "       [-2.28523157e-01, -9.92592982e-01],\n",
              "       [ 2.65104315e-01, -1.08718753e+00],\n",
              "       [-1.20504478e+00, -1.97003461e-01],\n",
              "       [ 1.86085859e+00,  1.20855728e+00],\n",
              "       [-4.46726368e-01, -1.03339987e+00],\n",
              "       [-3.84778647e-01,  1.51541282e+00],\n",
              "       [ 5.93279713e-01, -1.14844523e+00],\n",
              "       [ 1.93961386e+00,  1.33849938e+00],\n",
              "       [-2.26169061e-01, -4.38875705e-01],\n",
              "       [-1.57312490e+00,  8.18748512e-02],\n",
              "       [ 1.73668629e-01, -1.23623652e+00],\n",
              "       [-1.95349628e-01, -9.15800826e-01],\n",
              "       [-2.52554171e-01,  1.53354505e+00],\n",
              "       [-1.41045968e+00,  3.11197553e-01],\n",
              "       [ 1.74764629e+00,  1.22482482e+00],\n",
              "       [ 1.85789963e+00,  1.35069259e+00],\n",
              "       [ 1.01376458e-01, -8.61386185e-01],\n",
              "       [-8.93307210e-02,  1.13689213e+00],\n",
              "       [ 4.96233132e-01, -1.14379871e+00],\n",
              "       [ 6.80067009e-01, -8.65733723e-01],\n",
              "       [-1.65563234e+00, -1.64111102e-01],\n",
              "       [ 4.10755286e-01, -1.23082118e+00],\n",
              "       [-2.76879772e-01,  1.44282159e+00],\n",
              "       [ 2.22903043e+00,  1.23791850e+00],\n",
              "       [ 3.83497472e-01, -1.16579722e+00],\n",
              "       [ 2.35440088e-02, -6.73509278e-01],\n",
              "       [-2.43574229e-01, -5.23456650e-01],\n",
              "       [-3.06987557e-01, -8.38641276e-01],\n",
              "       [-7.43486066e-01, -5.64177825e-01],\n",
              "       [-1.08664549e+00, -1.75471283e-01],\n",
              "       [-4.08770625e-01, -4.92803224e-01],\n",
              "       [ 3.35335294e-01, -8.93373818e-01],\n",
              "       [-2.33730333e-01, -4.01950162e-01],\n",
              "       [-9.62101445e-02, -8.45037915e-01],\n",
              "       [ 1.21489979e-01, -1.14821043e+00],\n",
              "       [-1.04207402e-01, -1.01801382e+00],\n",
              "       [-1.63843801e+00, -2.04506653e-01],\n",
              "       [ 2.14597863e+00,  1.15454997e+00],\n",
              "       [-3.51887572e-01,  1.53409770e+00],\n",
              "       [ 5.22078038e-01, -8.99804907e-01],\n",
              "       [-2.56351925e-01, -8.25610575e-01],\n",
              "       [-1.50251115e+00, -1.72068243e-01],\n",
              "       [ 1.90408142e+00,  1.44252385e+00],\n",
              "       [-1.13530995e+00,  2.42733997e-01],\n",
              "       [-4.96758106e-01, -1.05328310e+00],\n",
              "       [-2.72246708e-01,  1.43529853e+00],\n",
              "       [ 1.62251698e+00,  1.46723102e+00],\n",
              "       [ 1.85934483e+00,  1.38461830e+00],\n",
              "       [ 1.18857458e-01, -9.82145742e-01],\n",
              "       [ 4.36449820e-01, -8.84166671e-01]])"
            ]
          },
          "metadata": {
            "tags": []
          },
          "execution_count": 119
        }
      ]
    },
    {
      "cell_type": "code",
      "metadata": {
        "id": "H47UELuvzT74",
        "colab_type": "code",
        "outputId": "9b74708e-7084-4a8f-c407-70079de896ec",
        "colab": {
          "base_uri": "https://localhost:8080/",
          "height": 1000
        }
      },
      "source": [
        "# now do PCA\n",
        "\n",
        "pca1 = PCA(2)\n",
        "\n",
        "pca_feature1 = pca.fit_transform(points_stand) \n",
        "\n",
        "pca_feature1\n"
      ],
      "execution_count": 123,
      "outputs": [
        {
          "output_type": "execute_result",
          "data": {
            "text/plain": [
              "array([[-0.859119  , -0.85952352],\n",
              "       [-0.63124075,  0.24820635],\n",
              "       [-0.46218832,  1.12508745],\n",
              "       [-0.86323592, -0.40568578],\n",
              "       [-0.56152232,  1.03424504],\n",
              "       [-0.75786136, -0.06790018],\n",
              "       [-0.92722839, -0.87610553],\n",
              "       [-0.82516434, -0.9864583 ],\n",
              "       [ 0.92715455, -1.31464953],\n",
              "       [-0.95637029, -0.09793634],\n",
              "       [-0.84252673,  0.31893319],\n",
              "       [-0.77851352,  0.14883125],\n",
              "       [-0.5430957 ,  1.2731123 ],\n",
              "       [-0.9566636 ,  0.23165439],\n",
              "       [-1.04372293, -0.80444051],\n",
              "       [-0.89152664,  1.05769474],\n",
              "       [-0.93882074, -0.69270926],\n",
              "       [-0.39974772,  0.18852965],\n",
              "       [-0.5995047 ,  0.52064648],\n",
              "       [ 2.37040471,  0.44982573],\n",
              "       [-0.84321901, -0.9125445 ],\n",
              "       [ 2.40777555,  0.26465665],\n",
              "       [ 2.33890436,  0.33962959],\n",
              "       [ 2.34954953,  0.36635402],\n",
              "       [-0.70286625,  0.59013732],\n",
              "       [-1.2122687 ,  0.29134686],\n",
              "       [-0.4773776 ,  1.22235687],\n",
              "       [ 1.04940822, -0.83696004],\n",
              "       [-0.98318745,  0.27270163],\n",
              "       [-0.85553812,  0.12104774],\n",
              "       [-0.66759864,  0.405301  ],\n",
              "       [-0.50964057,  0.4333449 ],\n",
              "       [-0.18855871,  0.8833364 ],\n",
              "       [ 2.19407458,  0.65757384],\n",
              "       [-1.34097365,  0.06860778],\n",
              "       [-0.80936264,  0.09840433],\n",
              "       [-0.67516374,  0.55375169],\n",
              "       [-0.51820283,  0.25639592],\n",
              "       [ 0.78907407, -1.20375393],\n",
              "       [-0.63096998,  0.87085886],\n",
              "       [-0.35962997,  1.50799078],\n",
              "       [ 2.40434558,  0.31601478],\n",
              "       [ 0.88033581, -1.03231379],\n",
              "       [ 0.81722184, -1.24318719],\n",
              "       [ 0.58445995, -1.17032299],\n",
              "       [-0.33183302,  0.10527059],\n",
              "       [-0.45279354,  0.60260571],\n",
              "       [-0.53112315,  0.33692737],\n",
              "       [-0.83560661, -1.01136207],\n",
              "       [-0.33470805,  1.07324203],\n",
              "       [ 1.98870049,  0.01326639],\n",
              "       [-0.5425253 , -0.74181536],\n",
              "       [-0.86744929, -0.96069489],\n",
              "       [ 0.67344766, -1.22721988],\n",
              "       [ 2.73080152,  0.3667353 ],\n",
              "       [-0.10129552,  1.25687468],\n",
              "       [-0.65554345,  0.12742856],\n",
              "       [ 0.43455721, -1.30167247],\n",
              "       [ 0.74740075, -1.25943011],\n",
              "       [-0.94526543, -0.99166614],\n",
              "       [ 1.97301329,  0.24025652],\n",
              "       [-0.30417769,  0.93309377],\n",
              "       [-0.97439694, -1.02484038],\n",
              "       [ 0.87390355, -1.25467998],\n",
              "       [ 1.91575274,  0.25203679],\n",
              "       [ 1.03641445, -1.0567861 ],\n",
              "       [ 2.28765412,  0.31383553],\n",
              "       [ 0.6608936 , -1.05939554],\n",
              "       [-0.87817508, -0.45331088],\n",
              "       [ 0.49819665, -1.41104346],\n",
              "       [-0.38397403,  0.56277991],\n",
              "       [-0.6957017 ,  0.19543496],\n",
              "       [-0.99306169,  0.33964144],\n",
              "       [-1.00947553,  0.25268858],\n",
              "       [ 2.27127835,  0.61579672],\n",
              "       [ 2.28900421,  0.62752758],\n",
              "       [-0.90869758,  0.13709961],\n",
              "       [-0.82848902,  0.24767235],\n",
              "       [ 0.97760339, -0.90604695],\n",
              "       [ 2.14085494,  0.45097655],\n",
              "       [ 0.75224052, -1.28582937],\n",
              "       [-0.68427418,  0.03280766],\n",
              "       [-0.99641743,  0.41423346],\n",
              "       [-0.43561818, -0.0138652 ],\n",
              "       [ 0.5656915 , -0.90503178],\n",
              "       [-0.59931506,  0.336493  ],\n",
              "       [ 0.68029411, -1.12055394],\n",
              "       [-0.82293969,  0.60312103],\n",
              "       [-1.12810861,  0.20734194],\n",
              "       [ 2.06941333,  0.14937137],\n",
              "       [ 0.8580794 , -0.97412187],\n",
              "       [-0.71330954,  0.30287191],\n",
              "       [ 1.70565942,  0.17743053],\n",
              "       [-0.47143992,  0.40842233],\n",
              "       [-0.63887032,  1.25675338],\n",
              "       [-0.95697358,  0.34020033],\n",
              "       [-0.49828163,  0.49757986],\n",
              "       [-1.08210238,  0.63930553],\n",
              "       [-0.43743756,  0.36200237],\n",
              "       [-0.45640623,  1.23587484],\n",
              "       [-0.72625722,  0.57864181],\n",
              "       [-0.32921844,  0.46546771],\n",
              "       [-1.32396816, -0.82387936],\n",
              "       [-1.02598455,  0.07901102],\n",
              "       [-0.58236752,  0.13879359],\n",
              "       [ 2.2346104 ,  0.67228193],\n",
              "       [-1.01542559, -1.14767591],\n",
              "       [-1.15111309, -0.86923532],\n",
              "       [-0.93459213, -0.97991661],\n",
              "       [ 2.29941062,  0.24819429],\n",
              "       [-0.67144044,  1.00479236],\n",
              "       [ 2.15279672,  0.45668473],\n",
              "       [-0.90693637,  0.29214185],\n",
              "       [-1.20392945, -1.22154504],\n",
              "       [-0.50377359,  0.67675648],\n",
              "       [-0.7902539 , -0.00430187],\n",
              "       [ 0.44269713, -1.10821893],\n",
              "       [ 0.45432562, -1.00068108],\n",
              "       [ 2.47750144,  0.48238738],\n",
              "       [ 0.58900802, -1.48776904],\n",
              "       [ 2.2918088 ,  0.53010081],\n",
              "       [-0.35188234,  1.41404977],\n",
              "       [-1.18435205,  0.49423744],\n",
              "       [-0.94219509, -0.76279728],\n",
              "       [-1.20521738,  0.21104775],\n",
              "       [-0.79880591, -0.83966284],\n",
              "       [-0.51916201,  0.50745338],\n",
              "       [ 2.34188087,  0.44399445],\n",
              "       [ 0.72571929, -1.00821617],\n",
              "       [-0.86694219, -0.9431646 ],\n",
              "       [-0.78534214,  0.94367022],\n",
              "       [-1.07547611, -0.97334134],\n",
              "       [-1.27046892,  0.19079141],\n",
              "       [-1.02478808, -1.17989536],\n",
              "       [ 0.61324402, -1.28575298],\n",
              "       [ 1.0794722 , -0.92822136],\n",
              "       [-0.61317043,  1.11105216],\n",
              "       [ 2.40570305,  0.71360381],\n",
              "       [-1.03517159, -0.97396536],\n",
              "       [-0.77759591,  0.16889237],\n",
              "       [ 1.10329341, -0.97451669],\n",
              "       [-0.72038489,  0.37646678],\n",
              "       [-0.87116813,  0.52061465],\n",
              "       [ 2.34634886,  0.61473821],\n",
              "       [-0.30839004,  1.1361622 ],\n",
              "       [ 0.62464148, -1.23961252],\n",
              "       [-0.53127128,  0.36593022],\n",
              "       [ 0.76449479, -1.38791674],\n",
              "       [-0.98312148, -1.06672877],\n",
              "       [-0.73989147,  0.30827723],\n",
              "       [-0.8634595 ,  0.54027895],\n",
              "       [-0.58130062,  0.95621474],\n",
              "       [-0.99139782, -0.71279285],\n",
              "       [ 2.17040478,  0.46124668],\n",
              "       [-1.0466073 ,  0.41484081],\n",
              "       [ 0.79947909, -1.34363827],\n",
              "       [-0.3925613 ,  1.23158552],\n",
              "       [ 2.3179761 ,  0.42505213],\n",
              "       [-0.47025766,  0.15040631],\n",
              "       [-1.05447302, -1.17026155],\n",
              "       [-0.75134896,  0.99695349],\n",
              "       [-0.78570202,  0.50943593],\n",
              "       [ 0.90579734, -1.26296287],\n",
              "       [-0.7772957 , -1.2173955 ],\n",
              "       [ 2.10185448,  0.3696906 ],\n",
              "       [ 2.26881732,  0.35864953],\n",
              "       [-0.53740803,  0.68077599],\n",
              "       [ 0.74073778, -0.8670705 ],\n",
              "       [-0.45789801,  1.15967764],\n",
              "       [-0.13128619,  1.09304618],\n",
              "       [-1.28675293, -1.05466478],\n",
              "       [-0.57987415,  1.16076985],\n",
              "       [ 0.82444537, -1.2160125 ],\n",
              "       [ 2.4515031 ,  0.70082196],\n",
              "       [-0.55316946,  1.09551678],\n",
              "       [-0.45959485,  0.49289111],\n",
              "       [-0.54237274,  0.19790676],\n",
              "       [-0.81008192,  0.37593595],\n",
              "       [-0.92465801, -0.12679007],\n",
              "       [-0.89245133, -0.64429746],\n",
              "       [-0.63750898,  0.05942002],\n",
              "       [-0.39459282,  0.86882854],\n",
              "       [-0.44949399,  0.11894938],\n",
              "       [-0.66556289,  0.52950119],\n",
              "       [-0.72600099,  0.89781377],\n",
              "       [-0.79353024,  0.64615872],\n",
              "       [-1.30315867, -1.01394259],\n",
              "       [ 2.33382616,  0.70104593],\n",
              "       [ 0.8359488 , -1.33359297],\n",
              "       [-0.26709323,  1.00542307],\n",
              "       [-0.76506302,  0.40252665],\n",
              "       [-1.18410644, -0.9407652 ],\n",
              "       [ 2.36640728,  0.32637049],\n",
              "       [-0.63114651, -0.97442422],\n",
              "       [-1.09604465,  0.3935226 ],\n",
              "       [ 0.82240183, -1.20741682],\n",
              "       [ 2.18478177,  0.10980376],\n",
              "       [ 2.29382833,  0.33568235],\n",
              "       [-0.610437  ,  0.77852683],\n",
              "       [-0.31658362,  0.93381688]])"
            ]
          },
          "metadata": {
            "tags": []
          },
          "execution_count": 123
        }
      ]
    },
    {
      "cell_type": "code",
      "metadata": {
        "id": "bjgoCEop7cQU",
        "colab_type": "code",
        "colab": {
          "base_uri": "https://localhost:8080/",
          "height": 295
        },
        "outputId": "577f9104-df8f-419d-9d81-1d04ae00f487"
      },
      "source": [
        "# elbow test to see how many centroids I will need for k-means\n",
        "\n",
        "sum_of_squared_distances = []\n",
        "K = range(1,9)\n",
        "for k in K:\n",
        "    k_M = KMeans(n_clusters=k)\n",
        "    k_M = k_M.fit(pca_feature1)\n",
        "    sum_of_squared_distances.append(k_M.inertia_)\n",
        "\n",
        "plt.plot(K, sum_of_squared_distances, 'bo-')\n",
        "plt.xlabel('K')\n",
        "plt.ylabel('Sum_of_squared_distances')\n",
        "plt.title('Elbow Method')\n",
        "plt.show()\n",
        "\n",
        "# it looks like arount 3 centroids is a good place"
      ],
      "execution_count": 140,
      "outputs": [
        {
          "output_type": "display_data",
          "data": {
            "image/png": "[encoded data removed]",
            "text/plain": [
              "<Figure size 432x288 with 1 Axes>"
            ]
          },
          "metadata": {
            "tags": []
          }
        }
      ]
    },
    {
      "cell_type": "code",
      "metadata": {
        "id": "KysKAD0773sf",
        "colab_type": "code",
        "colab": {
          "base_uri": "https://localhost:8080/",
          "height": 196
        },
        "outputId": "ef799eb7-6bd1-42cf-cfb9-1230f462df51"
      },
      "source": [
        "k_M = KMeans(4) # I experimented with 3 but I can see visualy that there are 4 clear blobs so i chose 4\n",
        "\n",
        "k_M.fit(pca_feature1) \n",
        "\n",
        "labels = k_M.labels_\n",
        "series = pd.Series(labels)\n",
        "pca_feature1 = pd.DataFrame(pca_feature1)\n",
        "pca_feature1['clusters'] = series.values # create new column\n",
        "pca_feature1.head()"
      ],
      "execution_count": 147,
      "outputs": [
        {
          "output_type": "execute_result",
          "data": {
            "text/html": [
              "<div>\n",
              "<style scoped>\n",
              "    .dataframe tbody tr th:only-of-type {\n",
              "        vertical-align: middle;\n",
              "    }\n",
              "\n",
              "    .dataframe tbody tr th {\n",
              "        vertical-align: top;\n",
              "    }\n",
              "\n",
              "    .dataframe thead th {\n",
              "        text-align: right;\n",
              "    }\n",
              "</style>\n",
              "<table border=\"1\" class=\"dataframe\">\n",
              "  <thead>\n",
              "    <tr style=\"text-align: right;\">\n",
              "      <th></th>\n",
              "      <th>0</th>\n",
              "      <th>1</th>\n",
              "      <th>clusters</th>\n",
              "    </tr>\n",
              "  </thead>\n",
              "  <tbody>\n",
              "    <tr>\n",
              "      <th>0</th>\n",
              "      <td>-0.859119</td>\n",
              "      <td>-0.859524</td>\n",
              "      <td>2</td>\n",
              "    </tr>\n",
              "    <tr>\n",
              "      <th>1</th>\n",
              "      <td>-0.631241</td>\n",
              "      <td>0.248206</td>\n",
              "      <td>0</td>\n",
              "    </tr>\n",
              "    <tr>\n",
              "      <th>2</th>\n",
              "      <td>-0.462188</td>\n",
              "      <td>1.125087</td>\n",
              "      <td>0</td>\n",
              "    </tr>\n",
              "    <tr>\n",
              "      <th>3</th>\n",
              "      <td>-0.863236</td>\n",
              "      <td>-0.405686</td>\n",
              "      <td>2</td>\n",
              "    </tr>\n",
              "    <tr>\n",
              "      <th>4</th>\n",
              "      <td>-0.561522</td>\n",
              "      <td>1.034245</td>\n",
              "      <td>0</td>\n",
              "    </tr>\n",
              "  </tbody>\n",
              "</table>\n",
              "</div>"
            ],
            "text/plain": [
              "          0         1  clusters\n",
              "0 -0.859119 -0.859524         2\n",
              "1 -0.631241  0.248206         0\n",
              "2 -0.462188  1.125087         0\n",
              "3 -0.863236 -0.405686         2\n",
              "4 -0.561522  1.034245         0"
            ]
          },
          "metadata": {
            "tags": []
          },
          "execution_count": 147
        }
      ]
    },
    {
      "cell_type": "code",
      "metadata": {
        "id": "zBS6PFK78Ds7",
        "colab_type": "code",
        "colab": {
          "base_uri": "https://localhost:8080/",
          "height": 283
        },
        "outputId": "c9818dec-5b8e-42af-8821-1c6b3cd9b1d4"
      },
      "source": [
        "colors = {0: 'r', 1: 'g', 2: 'b', 3: 'y'} # colors of the plot\n",
        "fig, ax = plt.subplots() \n",
        "grouped = pca_feature1.groupby('clusters') # group by the column clusters\n",
        "for key, group in grouped:\n",
        "    group.plot(ax = ax\n",
        "              ,kind = 'scatter'\n",
        "              ,x=0\n",
        "              ,y=1\n",
        "              ,label = key\n",
        "              ,color = colors[key]\n",
        "              )\n",
        "\n",
        "plt.show()"
      ],
      "execution_count": 148,
      "outputs": [
        {
          "output_type": "display_data",
          "data": {
            "image/png": "[encoded data removed]",
            "text/plain": [
              "<Figure size 432x288 with 1 Axes>"
            ]
          },
          "metadata": {
            "tags": []
          }
        }
      ]
    },
    {
      "cell_type": "markdown",
      "metadata": {
        "id": "oxxNyhv_FGKB",
        "colab_type": "text"
      },
      "source": [
        "# Stretch Goals (AKA how to get a 3):\n",
        "\n",
        "Complete the stretch goals for each section in order to get a 3 on that section.\n",
        "\n",
        "## Parts 1 & 2 (do all of the following): \n",
        "  - Comment your code well with both markdown and inline comments where appropriate\n",
        "  - Show your work with code and possibly LaTeX \n",
        "  - Justify your answers particularly well to show advanced mastery of this section\n",
        "\n",
        "## Part 3 (do all of the following): \n",
        " - Create a Scree Plot to show the Proportion of Explained Variance of each Principal Component (more than the first two)\n",
        "    - If you want to include a the cumulative proportion of explained variance, you might be interested in this NumPy Function: [numpy.cumsum](https://docs.scipy.org/doc/numpy/reference/generated/numpy.cumsum.html)\n",
        " - Give a top-notch explanation of eigenvalues and eigenvectors. Feel free to any materials, images, code, graphs, LaTeX, etc. to spruce up your answer.\n",
        "\n",
        "## Part 4 (do all of the following):\n",
        "- Justify your choice of k, both visually (scatterplot) and mathematically (elbow plot)."
      ]
    }
  ]
}